{
 "cells": [
  {
   "cell_type": "code",
   "execution_count": 2,
   "metadata": {},
   "outputs": [
    {
     "name": "stdout",
     "output_type": "stream",
     "text": [
      "Number of training examples 3955\n",
      "Number of test examples 521\n",
      "Number of validation examples 524\n"
     ]
    }
   ],
   "source": [
    "import os\n",
    "import shutil\n",
    "import random\n",
    "\n",
    "seed = 1\n",
    "random.seed(seed)\n",
    "directory = \"/Users/devan/Desktop/AMLS_20-21_SN12345678/Datasets/celeba/img/\"\n",
    "train = \"/Users/devan/Desktop/AMLS_20-21_SN12345678/A2/data1/train/\"\n",
    "test = \"/Users/devan/Desktop/AMLS_20-21_SN12345678/A2/data1/test/\"\n",
    "validation = \"/Users/devan/Desktop/AMLS_20-21_SN12345678/A2/data1/validation/\"\n",
    "\n",
    "os.makedirs(train + \"smiling/\")\n",
    "os.makedirs(train + \"n_smiling/\")\n",
    "os.makedirs(test + \"smiling/\")\n",
    "os.makedirs(test + \"n_smiling/\")\n",
    "os.makedirs(validation + \"smiling/\")\n",
    "os.makedirs(validation + \"n_smiling/\")\n",
    "\n",
    "test_examples = train_examples = validation_examples = 0\n",
    "\n",
    "for line in open(\"/Users/devan/Desktop/AMLS_20-21_SN12345678/Datasets/celeba/labels.csv\").readlines()[1:]:\n",
    "    split_line = line.split(\",\")\n",
    "    img_file = split_line[1]\n",
    "    s_ns = split_line[3]\n",
    "\n",
    "    random_num = random.random()\n",
    "\n",
    "    if random_num < 0.8:\n",
    "        location = train\n",
    "        train_examples += 1\n",
    "\n",
    "    elif random_num < 0.9:\n",
    "        location = validation\n",
    "        validation_examples += 1\n",
    "\n",
    "    else:\n",
    "        location = test\n",
    "        test_examples += 1\n",
    "\n",
    "    if int(float(s_ns)) == 1:\n",
    "        shutil.copy(\n",
    "            \"/Users/devan/Desktop/AMLS_20-21_SN12345678/Datasets/celeba/img/\" + img_file,\n",
    "            location + \"smiling/\" + img_file + \".jpg\",\n",
    "        )\n",
    "\n",
    "    elif int(float(s_ns)) == -1:\n",
    "        shutil.copy(\n",
    "            \"/Users/devan/Desktop/AMLS_20-21_SN12345678/Datasets/celeba/img/\" + img_file,\n",
    "            location + \"n_smiling/\" + img_file + \".jpg\",\n",
    "        )\n",
    "\n",
    "print(f\"Number of training examples {train_examples}\")\n",
    "print(f\"Number of test examples {test_examples}\")\n",
    "print(f\"Number of validation examples {validation_examples}\")"
   ]
  },
  {
   "cell_type": "code",
   "execution_count": 2,
   "metadata": {},
   "outputs": [],
   "source": [
    "import tensorflow as tf\n",
    "import math\n",
    "import numpy as np\n",
    "import matplotlib.pyplot as plt\n",
    "from tensorflow import keras\n",
    "from tensorflow.keras import layers\n",
    "from sklearn.metrics import roc_curve\n",
    "from tensorflow.keras.preprocessing.image import ImageDataGenerator"
   ]
  },
  {
   "cell_type": "code",
   "execution_count": 4,
   "metadata": {},
   "outputs": [],
   "source": [
    "train_examples = 3955\n",
    "test_examples = 521\n",
    "validation_examples = 524\n",
    "img_height = img_width = 90\n",
    "batch_size = 32"
   ]
  },
  {
   "cell_type": "code",
   "execution_count": 5,
   "metadata": {},
   "outputs": [],
   "source": [
    "model = keras.Sequential(\n",
    "    [\n",
    "        keras.Input(shape=(90,90,1)), #We dont flatten the input since we are using convolutional neural networks\n",
    "        layers.Conv2D(32, 11, strides = 4 , padding='same', activation = 'relu'),\n",
    "        layers.MaxPooling2D(pool_size=(3,3), strides = 2,padding='same'),\n",
    "        layers.Conv2D(96, 5, strides = 1 , padding='same', activation = 'relu'),\n",
    "        layers.MaxPooling2D(pool_size=(3,3), strides = 2,padding='same'),\n",
    "        layers.Conv2D(128, 5, strides = 1 , padding='same', activation = 'relu'),\n",
    "        layers.Conv2D(96, 5, strides = 1 , padding='same', activation = 'relu'),\n",
    "        layers.Dropout(0.5),\n",
    "        layers.Dense(160, activation='sigmoid'),\n",
    "        layers.Flatten(),\n",
    "        layers.Dense(1, activation='sigmoid'),\n",
    "    ]\n",
    ")"
   ]
  },
  {
   "cell_type": "code",
   "execution_count": 6,
   "metadata": {},
   "outputs": [
    {
     "name": "stdout",
     "output_type": "stream",
     "text": [
      "Found 3955 images belonging to 2 classes.\n",
      "Found 524 images belonging to 2 classes.\n",
      "Found 521 images belonging to 2 classes.\n"
     ]
    }
   ],
   "source": [
    "train_datagen = ImageDataGenerator(\n",
    "    rescale = 1/255,\n",
    "    rotation_range = 15,\n",
    "    zoom_range = (0.95,0.95),\n",
    "    horizontal_flip = True,\n",
    "    vertical_flip = True,\n",
    "    data_format = \"channels_last\",\n",
    "    dtype = tf.float32,\n",
    ")\n",
    "\n",
    "validation_datagen = ImageDataGenerator(rescale = 1.0/255, dtype = tf.float32)\n",
    "test_datagen = ImageDataGenerator(rescale = 1.0/255, dtype = tf.float32)\n",
    "\n",
    "train_gen = train_datagen.flow_from_directory(\n",
    "\"/Users/devan/Desktop/AMLS_20-21_SN12345678/A2/data1/train/\",\n",
    "target_size = (img_height, img_width),\n",
    "batch_size = batch_size,\n",
    "color_mode = \"grayscale\",\n",
    "class_mode = \"binary\",   \n",
    "shuffle = True,\n",
    "seed = 123,\n",
    ")\n",
    "\n",
    "validation_gen = validation_datagen.flow_from_directory(\n",
    "\"/Users/devan/Desktop/AMLS_20-21_SN12345678/A2/data1/validation/\",\n",
    "target_size = (img_height, img_width),\n",
    "batch_size = batch_size,\n",
    "color_mode = \"grayscale\",\n",
    "class_mode = \"binary\",   \n",
    "shuffle = True,\n",
    "seed = 123,\n",
    ")\n",
    "\n",
    "test_gen = test_datagen.flow_from_directory(\n",
    "\"/Users/devan/Desktop/AMLS_20-21_SN12345678/A2/data1/test/\",\n",
    "target_size = (img_height, img_width),\n",
    "batch_size = batch_size,\n",
    "color_mode = \"grayscale\",\n",
    "class_mode = \"binary\",   \n",
    "shuffle = True,\n",
    "seed = 123,\n",
    ")\n"
   ]
  },
  {
   "cell_type": "code",
   "execution_count": 7,
   "metadata": {},
   "outputs": [],
   "source": [
    "model.compile(\n",
    "    loss = keras.losses.BinaryCrossentropy(from_logits = False),\n",
    "    optimizer = keras.optimizers.Adam(lr = 3e-4),\n",
    "    metrics = [\"accuracy\"],\n",
    ")"
   ]
  },
  {
   "cell_type": "code",
   "execution_count": 8,
   "metadata": {},
   "outputs": [
    {
     "name": "stdout",
     "output_type": "stream",
     "text": [
      "Epoch 1/10\n",
      "123/123 - 20s - loss: 0.7115 - accuracy: 0.4958 - val_loss: 0.6915 - val_accuracy: 0.5605\n",
      "Epoch 2/10\n",
      "123/123 - 19s - loss: 0.6958 - accuracy: 0.5328 - val_loss: 0.6718 - val_accuracy: 0.5684\n",
      "Epoch 3/10\n",
      "123/123 - 18s - loss: 0.6584 - accuracy: 0.6141 - val_loss: 0.6357 - val_accuracy: 0.6211\n",
      "Epoch 4/10\n",
      "123/123 - 18s - loss: 0.6532 - accuracy: 0.6261 - val_loss: 0.6330 - val_accuracy: 0.6582\n",
      "Epoch 5/10\n",
      "123/123 - 18s - loss: 0.6470 - accuracy: 0.6317 - val_loss: 0.6332 - val_accuracy: 0.6270\n",
      "Epoch 6/10\n",
      "123/123 - 19s - loss: 0.6324 - accuracy: 0.6393 - val_loss: 0.6150 - val_accuracy: 0.6582\n",
      "Epoch 7/10\n",
      "123/123 - 18s - loss: 0.6237 - accuracy: 0.6561 - val_loss: 0.6117 - val_accuracy: 0.6680\n",
      "Epoch 8/10\n",
      "123/123 - 18s - loss: 0.6267 - accuracy: 0.6566 - val_loss: 0.6879 - val_accuracy: 0.5957\n",
      "Epoch 9/10\n",
      "123/123 - 18s - loss: 0.6173 - accuracy: 0.6638 - val_loss: 0.5865 - val_accuracy: 0.6855\n",
      "Epoch 10/10\n",
      "123/123 - 19s - loss: 0.5970 - accuracy: 0.6870 - val_loss: 0.5955 - val_accuracy: 0.6816\n"
     ]
    }
   ],
   "source": [
    "history = model.fit(\n",
    "train_gen,\n",
    "epochs=10,\n",
    "verbose=2,\n",
    "steps_per_epoch=train_examples // batch_size,\n",
    "validation_data=validation_gen,\n",
    "validation_steps=validation_examples // batch_size,)"
   ]
  },
  {
   "cell_type": "code",
   "execution_count": 9,
   "metadata": {},
   "outputs": [
    {
     "data": {
      "image/png": "[encoded data removed]",
      "text/plain": [
       "<Figure size 432x288 with 1 Axes>"
      ]
     },
     "metadata": {
      "needs_background": "light"
     },
     "output_type": "display_data"
    }
   ],
   "source": [
    "def plot_roc(labels, data):\n",
    "    predictions = model.predict(data)\n",
    "    fp, tp, _ = roc_curve(labels,predictions)\n",
    "    \n",
    "    plt.plot(100*fp, 100*tp)\n",
    "    plt.xlabel(\"False\")\n",
    "    plt.ylabel(\"True\")\n",
    "    plt.grid()\n",
    "    plt.show\n",
    "    \n",
    "test_labels = np.array([])\n",
    "num_batches = 0\n",
    "\n",
    "for _, y in test_gen:\n",
    "    test_labels = np.append(test_labels, y)\n",
    "    num_batches += 1\n",
    "    if num_batches == math.ceil(test_examples / batch_size):\n",
    "        break\n",
    "        \n",
    "plot_roc(test_labels, test_gen)"
   ]
  },
  {
   "cell_type": "code",
   "execution_count": 7,
   "metadata": {},
   "outputs": [
    {
     "name": "stdout",
     "output_type": "stream",
     "text": [
      "17/17 - 1s - loss: 0.6254 - accuracy: 0.6814\n"
     ]
    },
    {
     "data": {
      "text/plain": [
       "[0.6254177689552307, 0.6813819408416748]"
      ]
     },
     "execution_count": 7,
     "metadata": {},
     "output_type": "execute_result"
    }
   ],
   "source": [
    "model.evaluate(test_gen, verbose=2)"
   ]
  },
  {
   "cell_type": "code",
   "execution_count": 3,
   "metadata": {},
   "outputs": [
    {
     "ename": "NameError",
     "evalue": "name 'test_gen' is not defined",
     "output_type": "error",
     "traceback": [
      "\u001b[1;31m---------------------------------------------------------------------------\u001b[0m",
      "\u001b[1;31mNameError\u001b[0m                                 Traceback (most recent call last)",
      "\u001b[1;32m<ipython-input-3-f2ab52423123>\u001b[0m in \u001b[0;36m<module>\u001b[1;34m\u001b[0m\n\u001b[0;32m     12\u001b[0m \u001b[0mnum_batches\u001b[0m \u001b[1;33m=\u001b[0m \u001b[1;36m0\u001b[0m\u001b[1;33m\u001b[0m\u001b[1;33m\u001b[0m\u001b[0m\n\u001b[0;32m     13\u001b[0m \u001b[1;33m\u001b[0m\u001b[0m\n\u001b[1;32m---> 14\u001b[1;33m \u001b[1;32mfor\u001b[0m \u001b[0m_\u001b[0m\u001b[1;33m,\u001b[0m \u001b[0my\u001b[0m \u001b[1;32min\u001b[0m \u001b[0mtest_gen\u001b[0m\u001b[1;33m:\u001b[0m\u001b[1;33m\u001b[0m\u001b[1;33m\u001b[0m\u001b[0m\n\u001b[0m\u001b[0;32m     15\u001b[0m     \u001b[0mtest_labels\u001b[0m \u001b[1;33m=\u001b[0m \u001b[0mnp\u001b[0m\u001b[1;33m.\u001b[0m\u001b[0mappend\u001b[0m\u001b[1;33m(\u001b[0m\u001b[0mtest_labels\u001b[0m\u001b[1;33m,\u001b[0m \u001b[0my\u001b[0m\u001b[1;33m)\u001b[0m\u001b[1;33m\u001b[0m\u001b[1;33m\u001b[0m\u001b[0m\n\u001b[0;32m     16\u001b[0m     \u001b[0mnum_batches\u001b[0m \u001b[1;33m+=\u001b[0m \u001b[1;36m1\u001b[0m\u001b[1;33m\u001b[0m\u001b[1;33m\u001b[0m\u001b[0m\n",
      "\u001b[1;31mNameError\u001b[0m: name 'test_gen' is not defined"
     ]
    }
   ],
   "source": [
    "def plot_roc(labels, data):\n",
    "    predictions = model.predict(data)\n",
    "    fp, tp, _ = roc_curve(labels,predictions)\n",
    "    \n",
    "    plt.plot(100*fp, 100*tp)\n",
    "    plt.xlabel(\"False\")\n",
    "    plt.ylabel(\"True\")\n",
    "    plt.grid()\n",
    "    plt.show\n",
    "    \n",
    "test_labels = np.array([])\n",
    "num_batches = 0\n",
    "\n",
    "for _, y in test_gen:\n",
    "    test_labels = np.append(test_labels, y)\n",
    "    num_batches += 1\n",
    "    if num_batches == math.ceil(test_examples / batch_size):\n",
    "        break\n",
    "        \n",
    "plot_roc(test_labels, test_gen)"
   ]
  },
  {
   "cell_type": "code",
   "execution_count": 9,
   "metadata": {},
   "outputs": [
    {
     "data": {
      "image/png": "[encoded data removed]",
      "text/plain": [
       "<Figure size 432x288 with 1 Axes>"
      ]
     },
     "metadata": {
      "needs_background": "light"
     },
     "output_type": "display_data"
    }
   ],
   "source": [
    "plt.plot(history.history['accuracy'])\n",
    "plt.plot(history.history['val_accuracy'])\n",
    "plt.title('Model accuracy')\n",
    "plt.ylabel('Accuracy')\n",
    "plt.xlabel('Epoch')\n",
    "plt.legend((['Train', 'Test']), loc='upper left')\n",
    "plt.show()"
   ]
  },
  {
   "cell_type": "code",
   "execution_count": 8,
   "metadata": {},
   "outputs": [
    {
     "data": {
      "image/png": "[encoded data removed]",
      "text/plain": [
       "<Figure size 432x288 with 1 Axes>"
      ]
     },
     "metadata": {
      "needs_background": "light"
     },
     "output_type": "display_data"
    }
   ],
   "source": [
    "plt.plot(history.history['loss'])\n",
    "plt.plot(history.history['val_loss'])\n",
    "plt.title('Model accuracy')\n",
    "plt.ylabel('Accuracy')\n",
    "plt.xlabel('Epoch')\n",
    "plt.legend((['Train', 'Test']), loc='upper left')\n",
    "plt.show()"
   ]
  },
  {
   "cell_type": "code",
   "execution_count": null,
   "metadata": {},
   "outputs": [],
   "source": []
  }
 ],
 "metadata": {
  "kernelspec": {
   "display_name": "Python 3",
   "language": "python",
   "name": "python3"
  },
  "language_info": {
   "codemirror_mode": {
    "name": "ipython",
    "version": 3
   },
   "file_extension": ".py",
   "mimetype": "text/x-python",
   "name": "python",
   "nbconvert_exporter": "python",
   "pygments_lexer": "ipython3",
   "version": "3.8.5"
  }
 },
 "nbformat": 4,
 "nbformat_minor": 4
}
